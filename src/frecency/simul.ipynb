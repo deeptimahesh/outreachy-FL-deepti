{
 "cells": [
  {
   "cell_type": "markdown",
   "metadata": {},
   "source": [
    "# Federated Learning\n",
    "- Adapted from github given\n",
    "- Need to modify svm function"
   ]
  },
  {
   "cell_type": "code",
   "execution_count": 1,
   "metadata": {},
   "outputs": [],
   "source": [
    "%load_ext autoreload\n",
    "%autoreload 2"
   ]
  },
  {
   "cell_type": "code",
   "execution_count": 2,
   "metadata": {},
   "outputs": [],
   "source": [
    "import numpy as np\n",
    "import matplotlib.pyplot as plt\n",
    "%matplotlib inline"
   ]
  },
  {
   "cell_type": "code",
   "execution_count": 3,
   "metadata": {},
   "outputs": [],
   "source": [
    "import sys\n",
    "sys.path.insert(0, '..')"
   ]
  },
  {
   "cell_type": "code",
   "execution_count": 6,
   "metadata": {},
   "outputs": [],
   "source": [
    "from frecency import sample, frecency_points\n",
    "from frecency import sample_suggestions_normal as sample_suggestions"
   ]
  },
  {
   "cell_type": "markdown",
   "metadata": {},
   "source": [
    "## Linear Regression\n",
    "\n",
    "This section is mostly to check that's it possible to fit a linear model perfectly to the data."
   ]
  },
  {
   "cell_type": "code",
   "execution_count": 7,
   "metadata": {},
   "outputs": [],
   "source": [
    "from sklearn.linear_model import LinearRegression"
   ]
  },
  {
   "cell_type": "markdown",
   "metadata": {},
   "source": [
    "To fit a model, we sample a lot of these scores and also add noise on top to make the problem more similar to the real application."
   ]
  },
  {
   "cell_type": "code",
   "execution_count": 8,
   "metadata": {},
   "outputs": [],
   "source": [
    "n = int(1e6)\n",
    "noise = np.random.normal(0, 2, size=(n))\n",
    "X, y = sample(n)\n",
    "y += noise"
   ]
  },
  {
   "cell_type": "code",
   "execution_count": 9,
   "metadata": {},
   "outputs": [
    {
     "data": {
      "text/plain": "LinearRegression(copy_X=True, fit_intercept=False, n_jobs=None, normalize=False)"
     },
     "execution_count": 9,
     "metadata": {},
     "output_type": "execute_result"
    }
   ],
   "source": [
    "model = LinearRegression(fit_intercept=False)\n",
    "model.fit(X, y)"
   ]
  },
  {
   "cell_type": "markdown",
   "metadata": {},
   "source": [
    "The resulting coefficients are extremely close to the actual frecency weights. How close they are depends on how much noise we add to the data matrix."
   ]
  },
  {
   "cell_type": "code",
   "execution_count": 10,
   "metadata": {},
   "outputs": [
    {
     "data": {
      "text/plain": "<zip at 0x7fa86224aeb0>"
     },
     "execution_count": 10,
     "metadata": {},
     "output_type": "execute_result"
    }
   ],
   "source": [
    "zip(model.coef_, frecency_points)"
   ]
  },
  {
   "cell_type": "code",
   "execution_count": 11,
   "metadata": {},
   "outputs": [
    {
     "data": {
      "text/plain": "array([-0.00477053, -0.00073782,  0.00443646,  0.00418305, -0.00314595,\n        0.00450205,  0.00089682,  0.00359168, -0.01238557, -0.00846933,\n        0.01002435,  0.00066502, -0.0141183 , -0.00982969,  0.00608682])"
     },
     "execution_count": 11,
     "metadata": {},
     "output_type": "execute_result"
    }
   ],
   "source": [
    "model.coef_ - frecency_points"
   ]
  },
  {
   "cell_type": "markdown",
   "metadata": {},
   "source": [
    "## Ranking and SVM loss\n",
    "\n",
    "Now, we make the problem slightly more difficult: Instead of just learning the frecency function from data, we try to learn it from user interactions. The training data now consists of a variable number of history suggestions and their respective features. The label corresponds to the suggestion that the user clicked on. We still assume that the user clicks on the item with the highest frecency score."
   ]
  },
  {
   "cell_type": "markdown",
   "metadata": {},
   "source": [
    "### Preprocessing"
   ]
  },
  {
   "cell_type": "markdown",
   "metadata": {},
   "source": [
    "Gradient descent generally works better when the data is centered around the origin:"
   ]
  },
  {
   "cell_type": "code",
   "execution_count": 12,
   "metadata": {},
   "outputs": [],
   "source": [
    "from utils import normalize"
   ]
  },
  {
   "cell_type": "code",
   "execution_count": 13,
   "metadata": {},
   "outputs": [],
   "source": [
    "X = normalize(X)"
   ]
  },
  {
   "cell_type": "markdown",
   "metadata": {},
   "source": [
    "### Optimizers"
   ]
  },
  {
   "cell_type": "code",
   "execution_count": 21,
   "metadata": {},
   "outputs": [],
   "source": [
    "from algos import GradientDescent, AdaptiveGradientDescent, DecayedGradientDescent, RProp, Adam"
   ]
  },
  {
   "cell_type": "markdown",
   "metadata": {},
   "source": [
    "### Hinge Loss (SVM loss)\n",
    "\n",
    "To supervise training, we keep logging the loss:"
   ]
  },
  {
   "cell_type": "code",
   "execution_count": 22,
   "metadata": {},
   "outputs": [],
   "source": [
    "def svm_loss(preds, ys, delta=0):\n",
    "    correct = ys.argmax()\n",
    "    score_correct = preds[correct]\n",
    "    \n",
    "    loss = 0\n",
    "    \n",
    "    for i, pred in enumerate(preds):\n",
    "        loss += max(0, pred + delta - score_correct)            \n",
    "            \n",
    "    return loss"
   ]
  },
  {
   "cell_type": "markdown",
   "metadata": {},
   "source": [
    "### Helpers"
   ]
  },
  {
   "cell_type": "markdown",
   "metadata": {},
   "source": [
    "During training, we want to supervise the learning process and save the best models."
   ]
  },
  {
   "cell_type": "code",
   "execution_count": 23,
   "metadata": {},
   "outputs": [],
   "source": [
    "from utils import ModelCheckpoint"
   ]
  },
  {
   "cell_type": "markdown",
   "metadata": {},
   "source": [
    "accuracy needs to be measured carefully here: In our simulation, we assume that the current frecency is the perfect ranking function. But because items sometimes get the same frecency scores, there can be more than one correct answer:"
   ]
  },
  {
   "cell_type": "code",
   "execution_count": 24,
   "metadata": {},
   "outputs": [],
   "source": [
    "def rank_accuracy(y, preds):\n",
    "    correct = 0.\n",
    "    \n",
    "    for yi, pi in zip(y, preds):\n",
    "        if yi[pi.argmax()] == yi.max():\n",
    "            correct += 1\n",
    "            \n",
    "    return correct / len(y)"
   ]
  },
  {
   "cell_type": "markdown",
   "metadata": {},
   "source": [
    "The `SVMRanking` class is the main mechanism for fitting models."
   ]
  },
  {
   "cell_type": "code",
   "execution_count": 25,
   "metadata": {},
   "outputs": [],
   "source": [
    "class SVMRanking:\n",
    "    def __init__(self, delta):\n",
    "        self.delta = delta\n",
    "        \n",
    "    def fit(self, data_generator, optimizer, num_iterations=10, callbacks=[]):\n",
    "        X, y = data_generator(1)\n",
    "        num_features = X[0].shape[1]\n",
    "        self.W = frecency_points + (np.random.random(size=(num_features)) - 0.5) * 100\n",
    "        \n",
    "        for j in range(num_iterations):\n",
    "            X, y = data_generator(4000)\n",
    "            \n",
    "            preds = self.predict(X)\n",
    "            gradient = np.zeros(num_features)\n",
    "\n",
    "            for xi, pi, yi in zip(X, preds, y):\n",
    "                correct = yi.argmax()\n",
    "                score_correct = pi[correct]\n",
    "\n",
    "                for i, predicted_score in enumerate(pi):\n",
    "                    gradient -= xi[i] * max(0, predicted_score + self.delta - score_correct)\n",
    "            \n",
    "            gradient /= len(X)\n",
    "            \n",
    "            loss = np.mean([svm_loss(pi, yi) for pi, yi in zip(self.predict(X), y)])\n",
    "            accuracy = rank_accuracy(y, model.predict(X))\n",
    "            \n",
    "            print(\"[%d/%d] training: %.5f loss, %.3f accuracy\" % (j + 1, num_iterations, loss, accuracy))\n",
    "            \n",
    "            for callback in callbacks:\n",
    "                callback(self)\n",
    "            \n",
    "            self.W += optimizer(gradient)\n",
    "            \n",
    "    def predict(self, X):\n",
    "        preds = []\n",
    "        \n",
    "        for x in X:\n",
    "            scores = x.dot(self.W)\n",
    "            preds.append(scores)\n",
    "        \n",
    "        return preds"
   ]
  },
  {
   "cell_type": "markdown",
   "metadata": {},
   "source": [
    "### Training"
   ]
  },
  {
   "cell_type": "code",
   "execution_count": 26,
   "metadata": {},
   "outputs": [
    {
     "name": "stdout",
     "output_type": "stream",
     "text": "[1/48] training: 11.37885 loss, 0.704 accuracy\n[ModelCheckpoint] New best model with 0.69890 validation accuracy\n[2/48] training: 20.77378 loss, 0.699 accuracy\nvalidation: 0.680 accuracy\n[3/48] training: 19.16303 loss, 0.877 accuracy\n[ModelCheckpoint] New best model with 0.88550 validation accuracy\n[4/48] training: 1.76073 loss, 0.976 accuracy\n[ModelCheckpoint] New best model with 0.97320 validation accuracy\n[5/48] training: 1.19481 loss, 0.979 accuracy\n[ModelCheckpoint] New best model with 0.97930 validation accuracy\n[6/48] training: 0.76990 loss, 0.979 accuracy\n[ModelCheckpoint] New best model with 0.98120 validation accuracy\n[7/48] training: 0.43282 loss, 0.991 accuracy\n[ModelCheckpoint] New best model with 0.99010 validation accuracy\n[8/48] training: 0.38681 loss, 0.990 accuracy\nvalidation: 0.988 accuracy\n[9/48] training: 0.41164 loss, 0.987 accuracy\nvalidation: 0.989 accuracy\n[10/48] training: 0.37401 loss, 0.989 accuracy\nvalidation: 0.990 accuracy\n[11/48] training: 0.23747 loss, 0.991 accuracy\nvalidation: 0.988 accuracy\n[12/48] training: 0.27045 loss, 0.988 accuracy\nvalidation: 0.990 accuracy\n[13/48] training: 0.18285 loss, 0.988 accuracy\nvalidation: 0.989 accuracy\n[14/48] training: 0.17160 loss, 0.988 accuracy\nvalidation: 0.986 accuracy\n[15/48] training: 0.18721 loss, 0.986 accuracy\nvalidation: 0.987 accuracy\n[16/48] training: 0.14560 loss, 0.988 accuracy\nvalidation: 0.988 accuracy\n[17/48] training: 0.09088 loss, 0.989 accuracy\nvalidation: 0.990 accuracy\n[18/48] training: 0.07542 loss, 0.994 accuracy\n[ModelCheckpoint] New best model with 0.99240 validation accuracy\n[19/48] training: 0.09464 loss, 0.992 accuracy\n[ModelCheckpoint] New best model with 0.99290 validation accuracy\n[20/48] training: 0.07659 loss, 0.991 accuracy\nvalidation: 0.991 accuracy\n[21/48] training: 0.07348 loss, 0.990 accuracy\nvalidation: 0.992 accuracy\n[22/48] training: 0.05605 loss, 0.991 accuracy\nvalidation: 0.990 accuracy\n[23/48] training: 0.05481 loss, 0.992 accuracy\nvalidation: 0.991 accuracy\n[24/48] training: 0.04742 loss, 0.992 accuracy\nvalidation: 0.992 accuracy\n[25/48] training: 0.04680 loss, 0.990 accuracy\nvalidation: 0.991 accuracy\n[26/48] training: 0.03929 loss, 0.994 accuracy\nvalidation: 0.992 accuracy\n[27/48] training: 0.02756 loss, 0.993 accuracy\nvalidation: 0.991 accuracy\n[28/48] training: 0.02897 loss, 0.988 accuracy\nvalidation: 0.992 accuracy\n[29/48] training: 0.02368 loss, 0.992 accuracy\nvalidation: 0.991 accuracy\n[30/48] training: 0.02474 loss, 0.992 accuracy\nvalidation: 0.990 accuracy\n[31/48] training: 0.02377 loss, 0.990 accuracy\nvalidation: 0.992 accuracy\n[32/48] training: 0.02048 loss, 0.988 accuracy\nvalidation: 0.989 accuracy\n[33/48] training: 0.00942 loss, 0.994 accuracy\nvalidation: 0.990 accuracy\n[34/48] training: 0.01397 loss, 0.992 accuracy\nvalidation: 0.992 accuracy\n[35/48] training: 0.01393 loss, 0.991 accuracy\nvalidation: 0.991 accuracy\n[36/48] training: 0.00869 loss, 0.992 accuracy\nvalidation: 0.992 accuracy\n[37/48] training: 0.01141 loss, 0.991 accuracy\nvalidation: 0.990 accuracy\n[38/48] training: 0.01227 loss, 0.991 accuracy\nvalidation: 0.992 accuracy\n[39/48] training: 0.00728 loss, 0.991 accuracy\nvalidation: 0.992 accuracy\n[40/48] training: 0.00721 loss, 0.992 accuracy\nvalidation: 0.991 accuracy\n[41/48] training: 0.00460 loss, 0.990 accuracy\nvalidation: 0.992 accuracy\n[42/48] training: 0.00587 loss, 0.992 accuracy\nvalidation: 0.991 accuracy\n[43/48] training: 0.00537 loss, 0.989 accuracy\nvalidation: 0.992 accuracy\n[44/48] training: 0.00373 loss, 0.989 accuracy\nvalidation: 0.991 accuracy\n[45/48] training: 0.00457 loss, 0.992 accuracy\nvalidation: 0.992 accuracy\n[46/48] training: 0.00266 loss, 0.993 accuracy\nvalidation: 0.992 accuracy\n[47/48] training: 0.00226 loss, 0.992 accuracy\nvalidation: 0.992 accuracy\n[48/48] training: 0.00201 loss, 0.993 accuracy\nvalidation: 0.991 accuracy\n"
    }
   ],
   "source": [
    "np.random.seed(0)\n",
    "model = SVMRanking(delta=0.)\n",
    "model.fit(data_generator=sample_suggestions,\n",
    "          optimizer=GradientDescent(30.),\n",
    "          num_iterations=48,\n",
    "          callbacks=[ModelCheckpoint(rank_accuracy, sample_suggestions)])"
   ]
  },
  {
   "cell_type": "code",
   "execution_count": 27,
   "metadata": {},
   "outputs": [
    {
     "name": "stdout",
     "output_type": "stream",
     "text": "[1/48] training: 11.37885 loss, 0.704 accuracy\n[ModelCheckpoint] New best model with 0.69890 validation accuracy\n[2/48] training: 11.67939 loss, 0.705 accuracy\n[ModelCheckpoint] New best model with 0.69980 validation accuracy\n[3/48] training: 12.47571 loss, 0.724 accuracy\n[ModelCheckpoint] New best model with 0.73450 validation accuracy\n[4/48] training: 10.88291 loss, 0.733 accuracy\nvalidation: 0.731 accuracy\n[5/48] training: 11.51544 loss, 0.741 accuracy\n[ModelCheckpoint] New best model with 0.74380 validation accuracy\n[6/48] training: 11.42684 loss, 0.722 accuracy\nvalidation: 0.730 accuracy\n[7/48] training: 10.56044 loss, 0.842 accuracy\n[ModelCheckpoint] New best model with 0.84120 validation accuracy\n[8/48] training: 9.42108 loss, 0.843 accuracy\nvalidation: 0.839 accuracy\n[9/48] training: 9.27267 loss, 0.844 accuracy\nvalidation: 0.838 accuracy\n[10/48] training: 9.85514 loss, 0.845 accuracy\n[ModelCheckpoint] New best model with 0.84200 validation accuracy\n[11/48] training: 10.90015 loss, 0.826 accuracy\n[ModelCheckpoint] New best model with 0.84850 validation accuracy\n[12/48] training: 9.54195 loss, 0.836 accuracy\nvalidation: 0.846 accuracy\n[13/48] training: 7.80875 loss, 0.845 accuracy\nvalidation: 0.842 accuracy\n[14/48] training: 7.60681 loss, 0.844 accuracy\nvalidation: 0.843 accuracy\n[15/48] training: 7.04169 loss, 0.844 accuracy\nvalidation: 0.838 accuracy\n[16/48] training: 7.05609 loss, 0.846 accuracy\nvalidation: 0.835 accuracy\n[17/48] training: 6.30559 loss, 0.833 accuracy\nvalidation: 0.847 accuracy\n[18/48] training: 5.46363 loss, 0.840 accuracy\nvalidation: 0.846 accuracy\n[19/48] training: 4.58464 loss, 0.853 accuracy\nvalidation: 0.845 accuracy\n[20/48] training: 3.80535 loss, 0.848 accuracy\nvalidation: 0.845 accuracy\n[21/48] training: 3.52078 loss, 0.813 accuracy\nvalidation: 0.817 accuracy\n[22/48] training: 2.73667 loss, 0.833 accuracy\nvalidation: 0.824 accuracy\n[23/48] training: 2.49048 loss, 0.825 accuracy\nvalidation: 0.826 accuracy\n[24/48] training: 1.85465 loss, 0.832 accuracy\nvalidation: 0.828 accuracy\n[25/48] training: 1.61636 loss, 0.833 accuracy\nvalidation: 0.817 accuracy\n[26/48] training: 1.24641 loss, 0.910 accuracy\n[ModelCheckpoint] New best model with 0.91590 validation accuracy\n[27/48] training: 0.80905 loss, 0.916 accuracy\nvalidation: 0.913 accuracy\n[28/48] training: 0.58716 loss, 0.925 accuracy\n[ModelCheckpoint] New best model with 0.92210 validation accuracy\n[29/48] training: 0.38075 loss, 0.930 accuracy\n[ModelCheckpoint] New best model with 0.92880 validation accuracy\n[30/48] training: 0.22961 loss, 0.932 accuracy\n[ModelCheckpoint] New best model with 0.93330 validation accuracy\n[31/48] training: 0.14833 loss, 0.930 accuracy\nvalidation: 0.932 accuracy\n[32/48] training: 0.08652 loss, 0.941 accuracy\nvalidation: 0.931 accuracy\n[33/48] training: 0.05318 loss, 0.932 accuracy\nvalidation: 0.927 accuracy\n[34/48] training: 0.02861 loss, 0.856 accuracy\nvalidation: 0.852 accuracy\n[35/48] training: 0.03236 loss, 0.975 accuracy\n[ModelCheckpoint] New best model with 0.97540 validation accuracy\n[36/48] training: 0.01204 loss, 0.977 accuracy\n[ModelCheckpoint] New best model with 0.97580 validation accuracy\n[37/48] training: 0.02294 loss, 0.970 accuracy\nvalidation: 0.971 accuracy\n[38/48] training: 0.00317 loss, 0.973 accuracy\nvalidation: 0.973 accuracy\n[39/48] training: 0.00496 loss, 0.975 accuracy\nvalidation: 0.972 accuracy\n[40/48] training: 0.00471 loss, 0.973 accuracy\nvalidation: 0.974 accuracy\n[41/48] training: 0.00201 loss, 0.979 accuracy\nvalidation: 0.974 accuracy\n[42/48] training: 0.00370 loss, 0.976 accuracy\nvalidation: 0.974 accuracy\n[43/48] training: 0.00189 loss, 0.975 accuracy\nvalidation: 0.974 accuracy\n[44/48] training: 0.00162 loss, 0.969 accuracy\nvalidation: 0.973 accuracy\n[45/48] training: 0.00303 loss, 0.975 accuracy\n[ModelCheckpoint] New best model with 0.97790 validation accuracy\n[46/48] training: 0.00153 loss, 0.976 accuracy\nvalidation: 0.974 accuracy\n[47/48] training: 0.00116 loss, 0.979 accuracy\nvalidation: 0.977 accuracy\n[48/48] training: 0.00189 loss, 0.971 accuracy\nvalidation: 0.975 accuracy\n"
    }
   ],
   "source": [
    "np.random.seed(0)\n",
    "opt = AdaptiveGradientDescent(0.1, len(frecency_points))\n",
    "model = SVMRanking(delta=0.)\n",
    "model.fit(data_generator=sample_suggestions,\n",
    "          optimizer=opt,\n",
    "          num_iterations=48,\n",
    "          callbacks=[ModelCheckpoint(rank_accuracy,  sample_suggestions)])"
   ]
  },
  {
   "cell_type": "markdown",
   "metadata": {},
   "source": [
    "After fitting, we can compare the learned weights with the true frecency scores. Note that the values themselves are very different now but that the ordering is nearly the same as in the real algorithm. This shows that we are ranking very similarly to the real algorithm but that the optimization process did not fully reach the global optimum."
   ]
  },
  {
   "cell_type": "code",
   "execution_count": 28,
   "metadata": {},
   "outputs": [
    {
     "data": {
      "text/plain": "<zip at 0x7fa88c770230>"
     },
     "execution_count": 28,
     "metadata": {},
     "output_type": "execute_result"
    }
   ],
   "source": [
    "ais = np.argsort(frecency_points)\n",
    "zip(frecency_points[ais], model.W[ais])"
   ]
  },
  {
   "cell_type": "markdown",
   "metadata": {},
   "source": [
    "Still, the model is correct most of the time:"
   ]
  },
  {
   "cell_type": "code",
   "execution_count": 29,
   "metadata": {},
   "outputs": [
    {
     "data": {
      "text/plain": "0.9753"
     },
     "execution_count": 29,
     "metadata": {},
     "output_type": "execute_result"
    }
   ],
   "source": [
    "X, y = sample_suggestions(10000)\n",
    "rank_accuracy(y, model.predict(X))"
   ]
  },
  {
   "cell_type": "markdown",
   "metadata": {},
   "source": [
    "### Side note: Evaluation during training in production\n",
    "\n",
    "If we only use 400 data points for validating the current model, then this is not enough to properly assess the model quality.\n",
    "The accuracies jump too much.\n",
    "However, this evaluation could still be used to test that the model is not completely off."
   ]
  },
  {
   "cell_type": "code",
   "execution_count": 24,
   "metadata": {
    "ExecuteTime": {
     "end_time": "2018-07-06T00:17:38.255248Z",
     "start_time": "2018-07-06T00:17:04.080871Z"
    }
   },
   "outputs": [
    {
     "data": {
      "text/plain": [
       "(array([   3.,    2.,   25.,   35.,  188.,  222.,  219.,  232.,   60.,   13.]),\n",
       " array([ 0.935,  0.941,  0.947,  0.953,  0.959,  0.965,  0.971,  0.977,\n",
       "         0.983,  0.989,  0.995]),\n",
       " <a list of 10 Patch objects>)"
      ]
     },
     "execution_count": 24,
     "metadata": {},
     "output_type": "execute_result"
    },
    {
     "data": {
      "image/png": "[encoded data removed]",
      "text/plain": [
       "<matplotlib.figure.Figure at 0x7f7ad7eb3210>"
      ]
     },
     "metadata": {},
     "output_type": "display_data"
    }
   ],
   "source": [
    "X, y = sample_suggestions(1000 * 400)\n",
    "accuracies = []\n",
    "\n",
    "for i in range(0, len(X) - 400, 400):\n",
    "    Xi, yi = X[i:i+400], y[i:i+400]\n",
    "    acc = rank_accuracy(yi, model.predict(Xi))\n",
    "    accuracies.append(acc)\n",
    "    \n",
    "plt.hist(sorted(accuracies))"
   ]
  },
  {
   "cell_type": "markdown",
   "metadata": {},
   "source": [
    "## Frequency\n",
    "\n",
    "We still need to take into account that users visit links more than once.\n",
    "How often a user visits a link is sampled from an exponential distribution in this simulation:"
   ]
  },
  {
   "cell_type": "code",
   "execution_count": 25,
   "metadata": {
    "ExecuteTime": {
     "end_time": "2018-07-06T00:17:38.509711Z",
     "start_time": "2018-07-06T00:17:38.257225Z"
    }
   },
   "outputs": [
    {
     "data": {
      "text/plain": [
       "(array([ 535.,  215.,   97.,   75.,   33.,   20.,   10.,    4.,    3.,    8.]),\n",
       " array([  0. ,   4.3,   8.6,  12.9,  17.2,  21.5,  25.8,  30.1,  34.4,\n",
       "         38.7,  43. ]),\n",
       " <a list of 10 Patch objects>)"
      ]
     },
     "execution_count": 25,
     "metadata": {},
     "output_type": "execute_result"
    },
    {
     "data": {
      "image/png": "[encoded data removed]",
      "text/plain": [
       "<matplotlib.figure.Figure at 0x7f7ad95f8250>"
      ]
     },
     "metadata": {},
     "output_type": "display_data"
    }
   ],
   "source": [
    "frequencies = np.int32(np.random.exponential(7, size=(1000)))\n",
    "plt.hist(frequencies)"
   ]
  },
  {
   "cell_type": "code",
   "execution_count": 26,
   "metadata": {
    "ExecuteTime": {
     "end_time": "2018-07-06T00:17:38.536531Z",
     "start_time": "2018-07-06T00:17:38.512230Z"
    }
   },
   "outputs": [],
   "source": [
    "def sample_url_features(num_samples):\n",
    "    frequencies = np.int32(np.random.exponential(7, size=num_samples)) + 1\n",
    "    frequencies = np.int32(np.ones(num_samples))\n",
    "    X = []\n",
    "    \n",
    "    for frequency in frequencies:\n",
    "        num_sampled = min(10, frequency)\n",
    "        features = sample_weighted(num_sampled, weights).sum(axis=0)\n",
    "        X.append(frequency / num_sampled * features)\n",
    "        \n",
    "    return np.array(X)"
   ]
  },
  {
   "cell_type": "code",
   "execution_count": 27,
   "metadata": {
    "ExecuteTime": {
     "end_time": "2018-07-06T00:18:45.118445Z",
     "start_time": "2018-07-06T00:17:38.538528Z"
    }
   },
   "outputs": [
    {
     "name": "stdout",
     "output_type": "stream",
     "text": [
      "[1/48] training: 6.18883 loss, 0.848 accuracy\n",
      "[ModelCheckpoint] New best model with 0.84790 validation accuracy\n",
      "[2/48] training: 1.06586 loss, 0.945 accuracy\n",
      "[ModelCheckpoint] New best model with 0.94890 validation accuracy\n",
      "[3/48] training: 0.34774 loss, 0.946 accuracy\n",
      "validation: 0.942 accuracy\n",
      "[4/48] training: 0.23382 loss, 0.944 accuracy\n",
      "[ModelCheckpoint] New best model with 0.95250 validation accuracy\n",
      "[5/48] training: 0.11506 loss, 0.964 accuracy\n",
      "[ModelCheckpoint] New best model with 0.96180 validation accuracy\n",
      "[6/48] training: 0.13775 loss, 0.963 accuracy\n",
      "validation: 0.958 accuracy\n",
      "[7/48] training: 0.09727 loss, 0.956 accuracy\n",
      "[ModelCheckpoint] New best model with 0.96200 validation accuracy\n",
      "[8/48] training: 0.14268 loss, 0.964 accuracy\n",
      "validation: 0.960 accuracy\n",
      "[9/48] training: 0.08408 loss, 0.967 accuracy\n",
      "[ModelCheckpoint] New best model with 0.96470 validation accuracy\n",
      "[10/48] training: 0.11251 loss, 0.961 accuracy\n",
      "validation: 0.965 accuracy\n",
      "[11/48] training: 0.08002 loss, 0.965 accuracy\n",
      "validation: 0.962 accuracy\n",
      "[12/48] training: 0.07924 loss, 0.960 accuracy\n",
      "validation: 0.959 accuracy\n",
      "[13/48] training: 0.03795 loss, 0.965 accuracy\n",
      "validation: 0.963 accuracy\n",
      "[14/48] training: 0.05874 loss, 0.962 accuracy\n",
      "validation: 0.962 accuracy\n",
      "[15/48] training: 0.03857 loss, 0.968 accuracy\n",
      "validation: 0.959 accuracy\n",
      "[16/48] training: 0.04413 loss, 0.964 accuracy\n",
      "validation: 0.963 accuracy\n",
      "[17/48] training: 0.04385 loss, 0.960 accuracy\n",
      "validation: 0.964 accuracy\n",
      "[18/48] training: 0.06421 loss, 0.954 accuracy\n",
      "validation: 0.963 accuracy\n",
      "[19/48] training: 0.02293 loss, 0.956 accuracy\n",
      "validation: 0.962 accuracy\n",
      "[20/48] training: 0.03481 loss, 0.975 accuracy\n",
      "[ModelCheckpoint] New best model with 0.97780 validation accuracy\n",
      "[21/48] training: 0.04948 loss, 0.977 accuracy\n",
      "validation: 0.973 accuracy\n",
      "[22/48] training: 0.02398 loss, 0.981 accuracy\n",
      "validation: 0.977 accuracy\n",
      "[23/48] training: 0.02134 loss, 0.971 accuracy\n",
      "validation: 0.972 accuracy\n",
      "[24/48] training: 0.02303 loss, 0.974 accuracy\n",
      "validation: 0.977 accuracy\n",
      "[25/48] training: 0.01597 loss, 0.976 accuracy\n",
      "validation: 0.974 accuracy\n",
      "[26/48] training: 0.03493 loss, 0.974 accuracy\n",
      "validation: 0.974 accuracy\n",
      "[27/48] training: 0.02015 loss, 0.973 accuracy\n",
      "validation: 0.976 accuracy\n",
      "[28/48] training: 0.00946 loss, 0.972 accuracy\n",
      "validation: 0.974 accuracy\n",
      "[29/48] training: 0.01747 loss, 0.978 accuracy\n",
      "[ModelCheckpoint] New best model with 0.97860 validation accuracy\n",
      "[30/48] training: 0.01490 loss, 0.985 accuracy\n",
      "[ModelCheckpoint] New best model with 0.98120 validation accuracy\n",
      "[31/48] training: 0.01863 loss, 0.981 accuracy\n",
      "[ModelCheckpoint] New best model with 0.98180 validation accuracy\n",
      "[32/48] training: 0.01493 loss, 0.987 accuracy\n",
      "[ModelCheckpoint] New best model with 0.99080 validation accuracy\n",
      "[33/48] training: 0.01119 loss, 0.987 accuracy\n",
      "validation: 0.989 accuracy\n",
      "[34/48] training: 0.00920 loss, 0.988 accuracy\n",
      "validation: 0.989 accuracy\n",
      "[35/48] training: 0.00459 loss, 0.988 accuracy\n",
      "validation: 0.989 accuracy\n",
      "[36/48] training: 0.01033 loss, 0.992 accuracy\n",
      "validation: 0.990 accuracy\n",
      "[37/48] training: 0.01775 loss, 0.989 accuracy\n",
      "validation: 0.991 accuracy\n",
      "[38/48] training: 0.01152 loss, 0.989 accuracy\n",
      "validation: 0.991 accuracy\n",
      "[39/48] training: 0.01566 loss, 0.988 accuracy\n",
      "validation: 0.990 accuracy\n",
      "[40/48] training: 0.01165 loss, 0.990 accuracy\n",
      "validation: 0.990 accuracy\n",
      "[41/48] training: 0.00757 loss, 0.993 accuracy\n",
      "validation: 0.990 accuracy\n",
      "[42/48] training: 0.01432 loss, 0.989 accuracy\n",
      "validation: 0.990 accuracy\n",
      "[43/48] training: 0.01217 loss, 0.990 accuracy\n",
      "[ModelCheckpoint] New best model with 0.99100 validation accuracy\n",
      "[44/48] training: 0.01379 loss, 0.987 accuracy\n",
      "validation: 0.991 accuracy\n",
      "[45/48] training: 0.00440 loss, 0.992 accuracy\n",
      "validation: 0.989 accuracy\n",
      "[46/48] training: 0.00816 loss, 0.992 accuracy\n",
      "validation: 0.991 accuracy\n",
      "[47/48] training: 0.00210 loss, 0.992 accuracy\n",
      "validation: 0.990 accuracy\n",
      "[48/48] training: 0.01071 loss, 0.991 accuracy\n",
      "validation: 0.989 accuracy\n"
     ]
    }
   ],
   "source": [
    "model = SVMRanking(delta=0.)\n",
    "model.fit(data_generator=sample_suggestions,\n",
    "          optimizer=GradientDescent(30.),\n",
    "          num_iterations=48,\n",
    "          callbacks=[ModelCheckpoint(rank_accuracy, sample_suggestions, 10000)])"
   ]
  },
  {
   "cell_type": "markdown",
   "metadata": {},
   "source": [
    "## Federated Learning\n",
    "\n",
    "To implement a federated version of the model above, we have to create a `Client` class that completely encapsulates training data. Only the `Client` can compute gradients based on its own data. While the `Server` is the main class for controlling the training process, it can only request gradients from clients."
   ]
  },
  {
   "cell_type": "code",
   "execution_count": 28,
   "metadata": {
    "ExecuteTime": {
     "end_time": "2018-07-06T00:18:45.158904Z",
     "start_time": "2018-07-06T00:18:45.120708Z"
    }
   },
   "outputs": [],
   "source": [
    "import random"
   ]
  },
  {
   "cell_type": "code",
   "execution_count": 69,
   "metadata": {
    "ExecuteTime": {
     "end_time": "2018-07-06T00:40:18.905134Z",
     "start_time": "2018-07-06T00:40:18.862878Z"
    }
   },
   "outputs": [],
   "source": [
    "class Server:\n",
    "    def __init__(self, clients):\n",
    "        self.clients = clients\n",
    "        \n",
    "        num_features = len(frecency_points)\n",
    "        self.W = np.int32(frecency_points + (np.random.random(size=(num_features)) - 0.5) * 100)\n",
    "    \n",
    "    def fit(self, optimizer, num_iterations, num_clients_per_iteration, constraints=[], callbacks=[]):\n",
    "        for j in range(num_iterations):\n",
    "            clients = random.sample(self.clients, num_clients_per_iteration)\n",
    "            updates, losses = zip(*[client.request_update(self) for client in clients])\n",
    "            \n",
    "            gradient = np.mean(updates, axis=0)\n",
    "            loss = np.mean(losses, axis=0)\n",
    "            \n",
    "            print(\"[%d/%d] training loss across clients %.5f\" % (j + 1, num_iterations, loss))\n",
    "            \n",
    "            for callback in callbacks:\n",
    "                callback(self)\n",
    "            \n",
    "            self.W += np.int32(optimizer(gradient))\n",
    "            \n",
    "            for constraint in constraints:\n",
    "                self.W = constraint(self.W)\n",
    "            \n",
    "    def predict(self, X):\n",
    "        preds = []\n",
    "        \n",
    "        for x in X:\n",
    "            scores = x.dot(self.W)\n",
    "            preds.append(scores)\n",
    "        \n",
    "        return preds"
   ]
  },
  {
   "cell_type": "code",
   "execution_count": 30,
   "metadata": {
    "ExecuteTime": {
     "end_time": "2018-07-06T00:18:45.381044Z",
     "start_time": "2018-07-06T00:18:45.278291Z"
    }
   },
   "outputs": [],
   "source": [
    "class AnalyticalClient:\n",
    "    def __init__(self, data_generator, delta=0):\n",
    "        self.data_generator = data_generator\n",
    "        self.delta = 0\n",
    "    \n",
    "    def request_update(self, model):\n",
    "        X, y = self.data_generator()\n",
    "        preds = model.predict(X)\n",
    "        \n",
    "        num_features = X[0].shape[1]\n",
    "        gradient = np.zeros(num_features)\n",
    "        loss = 0\n",
    "\n",
    "        for xi, pi, yi in zip(X, preds, y):\n",
    "            correct = yi.argmax()\n",
    "            score_correct = pi[correct]\n",
    "\n",
    "            for i, predicted_score in enumerate(pi):\n",
    "                gradient -= xi[i] * max(0, predicted_score + self.delta - score_correct)\n",
    "            \n",
    "            loss += svm_loss(pi, yi)\n",
    "                \n",
    "        gradient /= len(X)\n",
    "        loss /= len(X)\n",
    "        \n",
    "        return gradient, loss"
   ]
  },
  {
   "cell_type": "code",
   "execution_count": 67,
   "metadata": {
    "ExecuteTime": {
     "end_time": "2018-07-06T00:39:55.750972Z",
     "start_time": "2018-07-06T00:39:55.712035Z"
    }
   },
   "outputs": [],
   "source": [
    "class FrecencyConstraints:\n",
    "    def __call__(self, gradient):\n",
    "        return gradient - min(0, gradient.min())"
   ]
  },
  {
   "cell_type": "markdown",
   "metadata": {},
   "source": [
    "How many data points a user has in each round is sampled from the following exponential distribution:"
   ]
  },
  {
   "cell_type": "code",
   "execution_count": 33,
   "metadata": {
    "ExecuteTime": {
     "end_time": "2018-07-06T00:18:45.929414Z",
     "start_time": "2018-07-06T00:18:45.605254Z"
    }
   },
   "outputs": [
    {
     "data": {
      "text/plain": [
       "(array([ 722.,    0.,  197.,    0.,   61.,    0.,   13.,    0.,    6.,    1.]),\n",
       " array([ 1. ,  1.5,  2. ,  2.5,  3. ,  3.5,  4. ,  4.5,  5. ,  5.5,  6. ]),\n",
       " <a list of 10 Patch objects>)"
      ]
     },
     "execution_count": 33,
     "metadata": {},
     "output_type": "execute_result"
    },
    {
     "data": {
      "image/png": "[encoded data removed]",
      "text/plain": [
       "<matplotlib.figure.Figure at 0x7f7ad7a27490>"
      ]
     },
     "metadata": {},
     "output_type": "display_data"
    }
   ],
   "source": [
    "num_datapoints = np.int32(np.random.exponential(.8, size=(1000))) + 1\n",
    "plt.hist(num_datapoints)"
   ]
  },
  {
   "cell_type": "markdown",
   "metadata": {},
   "source": [
    "We have 5000 clients:"
   ]
  },
  {
   "cell_type": "code",
   "execution_count": 34,
   "metadata": {
    "ExecuteTime": {
     "end_time": "2018-07-06T00:18:45.955213Z",
     "start_time": "2018-07-06T00:18:45.931708Z"
    }
   },
   "outputs": [],
   "source": [
    "clients = [AnalyticalClient(lambda: sample_suggestions(np.int32(np.random.exponential(.8)) + 1)) for _ in range(5000)]"
   ]
  },
  {
   "cell_type": "code",
   "execution_count": 43,
   "metadata": {
    "ExecuteTime": {
     "end_time": "2018-07-06T00:21:03.190202Z",
     "start_time": "2018-07-06T00:20:38.939491Z"
    }
   },
   "outputs": [
    {
     "name": "stdout",
     "output_type": "stream",
     "text": [
      "[1/48] training loss across clients 12.52600\n",
      "[ModelCheckpoint] New best model with 0.75180 validation accuracy\n",
      "[2/48] training loss across clients 69.63567\n",
      "validation: 0.579 accuracy\n",
      "[3/48] training loss across clients 126.53121\n",
      "[ModelCheckpoint] New best model with 0.82800 validation accuracy\n",
      "[4/48] training loss across clients 8.36708\n",
      "[ModelCheckpoint] New best model with 0.95320 validation accuracy\n",
      "[5/48] training loss across clients 3.77042\n",
      "[ModelCheckpoint] New best model with 0.95440 validation accuracy\n",
      "[6/48] training loss across clients 2.39812\n",
      "[ModelCheckpoint] New best model with 0.96300 validation accuracy\n",
      "[7/48] training loss across clients 1.98479\n",
      "[ModelCheckpoint] New best model with 0.97820 validation accuracy\n",
      "[8/48] training loss across clients 1.14083\n",
      "validation: 0.973 accuracy\n",
      "[9/48] training loss across clients 0.92900\n",
      "validation: 0.975 accuracy\n",
      "[10/48] training loss across clients 1.00767\n",
      "[ModelCheckpoint] New best model with 0.97900 validation accuracy\n",
      "[11/48] training loss across clients 1.72417\n",
      "[ModelCheckpoint] New best model with 0.98060 validation accuracy\n",
      "[12/48] training loss across clients 0.77604\n",
      "validation: 0.976 accuracy\n",
      "[13/48] training loss across clients 1.85472\n",
      "validation: 0.977 accuracy\n",
      "[14/48] training loss across clients 0.48146\n",
      "validation: 0.976 accuracy\n",
      "[15/48] training loss across clients 0.65021\n",
      "validation: 0.979 accuracy\n",
      "[16/48] training loss across clients 0.38479\n",
      "validation: 0.979 accuracy\n",
      "[17/48] training loss across clients 0.92471\n",
      "validation: 0.976 accuracy\n",
      "[18/48] training loss across clients 0.54500\n",
      "validation: 0.977 accuracy\n",
      "[19/48] training loss across clients 0.64333\n",
      "validation: 0.976 accuracy\n",
      "[20/48] training loss across clients 0.21917\n",
      "validation: 0.974 accuracy\n",
      "[21/48] training loss across clients 1.24250\n",
      "validation: 0.979 accuracy\n",
      "[22/48] training loss across clients 0.17479\n",
      "validation: 0.975 accuracy\n",
      "[23/48] training loss across clients 0.37125\n",
      "validation: 0.980 accuracy\n",
      "[24/48] training loss across clients 0.17708\n",
      "validation: 0.977 accuracy\n",
      "[25/48] training loss across clients 0.19312\n",
      "validation: 0.974 accuracy\n",
      "[26/48] training loss across clients 0.21071\n",
      "validation: 0.975 accuracy\n",
      "[27/48] training loss across clients 0.15375\n",
      "validation: 0.979 accuracy\n",
      "[28/48] training loss across clients 0.25217\n",
      "validation: 0.978 accuracy\n",
      "[29/48] training loss across clients 0.11625\n",
      "validation: 0.978 accuracy\n",
      "[30/48] training loss across clients 0.14438\n",
      "[ModelCheckpoint] New best model with 0.98140 validation accuracy\n",
      "[31/48] training loss across clients 0.19250\n",
      "validation: 0.977 accuracy\n",
      "[32/48] training loss across clients 0.11167\n",
      "validation: 0.975 accuracy\n",
      "[33/48] training loss across clients 0.11208\n",
      "validation: 0.977 accuracy\n",
      "[34/48] training loss across clients 0.11167\n",
      "validation: 0.981 accuracy\n",
      "[35/48] training loss across clients 0.02958\n",
      "validation: 0.978 accuracy\n",
      "[36/48] training loss across clients 0.07437\n",
      "validation: 0.977 accuracy\n",
      "[37/48] training loss across clients 0.12875\n",
      "validation: 0.981 accuracy\n",
      "[38/48] training loss across clients 0.11971\n",
      "validation: 0.976 accuracy\n",
      "[39/48] training loss across clients 0.06208\n",
      "validation: 0.978 accuracy\n",
      "[40/48] training loss across clients 0.05292\n",
      "validation: 0.978 accuracy\n",
      "[41/48] training loss across clients 0.04750\n",
      "validation: 0.980 accuracy\n",
      "[42/48] training loss across clients 0.05975\n",
      "validation: 0.977 accuracy\n",
      "[43/48] training loss across clients 0.07625\n",
      "validation: 0.981 accuracy\n",
      "[44/48] training loss across clients 0.05604\n",
      "validation: 0.980 accuracy\n",
      "[45/48] training loss across clients 0.04167\n",
      "validation: 0.976 accuracy\n",
      "[46/48] training loss across clients 0.04900\n",
      "validation: 0.980 accuracy\n",
      "[47/48] training loss across clients 0.10875\n",
      "validation: 0.975 accuracy\n",
      "[48/48] training loss across clients 0.04458\n",
      "validation: 0.978 accuracy\n"
     ]
    }
   ],
   "source": [
    "np.random.seed(10)\n",
    "server = Server(clients)\n",
    "server.fit(optimizer=GradientDescent(30.),\n",
    "          num_iterations=48,\n",
    "           num_clients_per_iteration=400,\n",
    "           constraints=[FrecencyConstraints()],\n",
    "          callbacks=[ModelCheckpoint(rank_accuracy, sample_suggestions, 5000)])"
   ]
  },
  {
   "cell_type": "markdown",
   "metadata": {},
   "source": [
    "=> The model quality improved from 70% to >97% validation accuracy."
   ]
  },
  {
   "cell_type": "code",
   "execution_count": 44,
   "metadata": {
    "ExecuteTime": {
     "end_time": "2018-07-06T00:21:03.240159Z",
     "start_time": "2018-07-06T00:21:03.192921Z"
    }
   },
   "outputs": [
    {
     "data": {
      "text/plain": [
       "[(12.0, 0),\n",
       " (14.0, 1031),\n",
       " (20.0, 1029),\n",
       " (36.0, 1027),\n",
       " (42.0, 1222),\n",
       " (60.0, 1220),\n",
       " (60.0, 1224),\n",
       " (70.0, 1376),\n",
       " (84.0, 1375),\n",
       " (98.0, 1605),\n",
       " (100.0, 1667),\n",
       " (120.0, 1730),\n",
       " (140.0, 1790),\n",
       " (140.0, 1790),\n",
       " (200.0, 1897)]"
      ]
     },
     "execution_count": 44,
     "metadata": {},
     "output_type": "execute_result"
    }
   ],
   "source": [
    "zip(frecency_points[ais], server.W[ais])"
   ]
  },
  {
   "cell_type": "markdown",
   "metadata": {},
   "source": [
    "### With RProp\n",
    "\n",
    "[RProp](https://florian.github.io/rprop/) is a gradient descent variation that ignores the magnitude of the gradient.\n",
    "The general motivation for this is that the mangitude can be misleading since it does not have to contain useful information for the step size.\n",
    "\n",
    "The motivation for using RProp in our case is a little bit different: Since we do not collect any training data at all, we have no idea how large the gradient mangitudes are going to be. This is problematic because it makes it very hard to properly configure the learning rate beforehand.\n",
    "To deal with this, we can use RProp to only take into account the signs of gradients.\n",
    "\n",
    "This also makes updates much easier to interpret: They change each frecency weight between 1 and 3, depending on how strong the feedback signal for that weight has been in the past."
   ]
  },
  {
   "cell_type": "code",
   "execution_count": 37,
   "metadata": {
    "ExecuteTime": {
     "end_time": "2018-07-06T00:19:34.066635Z",
     "start_time": "2018-07-06T00:19:10.092005Z"
    },
    "scrolled": true
   },
   "outputs": [
    {
     "name": "stdout",
     "output_type": "stream",
     "text": [
      "[1/48] training loss across clients 12.52600\n",
      "[ModelCheckpoint] New best model with 0.75180 validation accuracy\n",
      "[2/48] training loss across clients 11.57683\n",
      "[ModelCheckpoint] New best model with 0.75420 validation accuracy\n",
      "[3/48] training loss across clients 10.13446\n",
      "[ModelCheckpoint] New best model with 0.76120 validation accuracy\n",
      "[4/48] training loss across clients 9.87555\n",
      "[ModelCheckpoint] New best model with 0.81120 validation accuracy\n",
      "[5/48] training loss across clients 6.85687\n",
      "validation: 0.806 accuracy\n",
      "[6/48] training loss across clients 7.84021\n",
      "validation: 0.800 accuracy\n",
      "[7/48] training loss across clients 6.18229\n",
      "validation: 0.797 accuracy\n",
      "[8/48] training loss across clients 5.60081\n",
      "[ModelCheckpoint] New best model with 0.86840 validation accuracy\n",
      "[9/48] training loss across clients 4.31879\n",
      "validation: 0.866 accuracy\n",
      "[10/48] training loss across clients 3.27196\n",
      "validation: 0.867 accuracy\n",
      "[11/48] training loss across clients 4.12021\n",
      "validation: 0.868 accuracy\n",
      "[12/48] training loss across clients 1.78142\n",
      "validation: 0.867 accuracy\n",
      "[13/48] training loss across clients 2.35683\n",
      "[ModelCheckpoint] New best model with 0.87420 validation accuracy\n",
      "[14/48] training loss across clients 1.59417\n",
      "[ModelCheckpoint] New best model with 0.91000 validation accuracy\n",
      "[15/48] training loss across clients 1.13029\n",
      "validation: 0.905 accuracy\n",
      "[16/48] training loss across clients 0.90542\n",
      "[ModelCheckpoint] New best model with 0.93580 validation accuracy\n",
      "[17/48] training loss across clients 0.77200\n",
      "[ModelCheckpoint] New best model with 0.93900 validation accuracy\n",
      "[18/48] training loss across clients 0.62500\n",
      "[ModelCheckpoint] New best model with 0.94560 validation accuracy\n",
      "[19/48] training loss across clients 0.55208\n",
      "[ModelCheckpoint] New best model with 0.95260 validation accuracy\n",
      "[20/48] training loss across clients 0.22333\n",
      "[ModelCheckpoint] New best model with 0.95680 validation accuracy\n",
      "[21/48] training loss across clients 0.24579\n",
      "validation: 0.955 accuracy\n",
      "[22/48] training loss across clients 0.22500\n",
      "validation: 0.951 accuracy\n",
      "[23/48] training loss across clients 0.33917\n",
      "validation: 0.952 accuracy\n",
      "[24/48] training loss across clients 0.21667\n",
      "[ModelCheckpoint] New best model with 0.95780 validation accuracy\n",
      "[25/48] training loss across clients 0.10833\n",
      "validation: 0.957 accuracy\n",
      "[26/48] training loss across clients 0.06333\n",
      "[ModelCheckpoint] New best model with 0.96220 validation accuracy\n",
      "[27/48] training loss across clients 0.20771\n",
      "validation: 0.863 accuracy\n",
      "[28/48] training loss across clients 0.03800\n",
      "[ModelCheckpoint] New best model with 1.00000 validation accuracy\n",
      "[29/48] training loss across clients 0.22592\n",
      "validation: 0.927 accuracy\n",
      "[30/48] training loss across clients 0.00000\n",
      "validation: 1.000 accuracy\n",
      "[31/48] training loss across clients 0.00000\n",
      "validation: 1.000 accuracy\n",
      "[32/48] training loss across clients 0.00000\n",
      "validation: 1.000 accuracy\n",
      "[33/48] training loss across clients 0.00000\n",
      "validation: 1.000 accuracy\n",
      "[34/48] training loss across clients 0.00000\n",
      "validation: 1.000 accuracy\n",
      "[35/48] training loss across clients 0.00000\n",
      "validation: 1.000 accuracy\n",
      "[36/48] training loss across clients 0.00000\n",
      "validation: 1.000 accuracy\n",
      "[37/48] training loss across clients 0.00000\n",
      "validation: 1.000 accuracy\n",
      "[38/48] training loss across clients 0.00000\n",
      "validation: 1.000 accuracy\n",
      "[39/48] training loss across clients 0.00000\n",
      "validation: 1.000 accuracy\n",
      "[40/48] training loss across clients 0.00000\n",
      "validation: 1.000 accuracy\n",
      "[41/48] training loss across clients 0.00000\n",
      "validation: 1.000 accuracy\n",
      "[42/48] training loss across clients 0.00000\n",
      "validation: 1.000 accuracy\n",
      "[43/48] training loss across clients 0.00000\n",
      "validation: 1.000 accuracy\n",
      "[44/48] training loss across clients 0.00000\n",
      "validation: 1.000 accuracy\n",
      "[45/48] training loss across clients 0.00000\n",
      "validation: 1.000 accuracy\n",
      "[46/48] training loss across clients 0.00000\n",
      "validation: 1.000 accuracy\n",
      "[47/48] training loss across clients 0.00000\n",
      "validation: 1.000 accuracy\n",
      "[48/48] training loss across clients 0.00000\n",
      "validation: 1.000 accuracy\n"
     ]
    }
   ],
   "source": [
    "np.random.seed(10)\n",
    "opt = opt = RProp(2., len(frecency_points), min_value=1, max_value=3, alpha=2., beta=0.6)\n",
    "server = Server(clients)\n",
    "server.fit(optimizer=opt,\n",
    "          num_iterations=48,\n",
    "           num_clients_per_iteration=400,\n",
    "           constraints=[FrecencyConstraints()],\n",
    "          callbacks=[ModelCheckpoint(rank_accuracy, sample_suggestions, 5000)])"
   ]
  },
  {
   "cell_type": "code",
   "execution_count": 40,
   "metadata": {
    "ExecuteTime": {
     "end_time": "2018-07-06T00:19:53.747166Z",
     "start_time": "2018-07-06T00:19:53.706820Z"
    }
   },
   "outputs": [
    {
     "data": {
      "text/plain": [
       "array([ 3.,  2.,  3.,  3.,  3.,  2.,  2.,  3.,  2.,  2.,  3.,  3.,  2.,\n",
       "        2.,  3.])"
      ]
     },
     "execution_count": 40,
     "metadata": {},
     "output_type": "execute_result"
    }
   ],
   "source": [
    "opt.learning_rates"
   ]
  },
  {
   "cell_type": "code",
   "execution_count": 41,
   "metadata": {
    "ExecuteTime": {
     "end_time": "2018-07-06T00:19:54.541101Z",
     "start_time": "2018-07-06T00:19:54.517385Z"
    }
   },
   "outputs": [
    {
     "data": {
      "text/plain": [
       "[(12.0, 0),\n",
       " (14.0, 22),\n",
       " (20.0, 24),\n",
       " (36.0, 26),\n",
       " (42.0, 37),\n",
       " (60.0, 98),\n",
       " (60.0, 98),\n",
       " (70.0, 104),\n",
       " (84.0, 105),\n",
       " (98.0, 107),\n",
       " (100.0, 109),\n",
       " (120.0, 140),\n",
       " (140.0, 142),\n",
       " (140.0, 142),\n",
       " (200.0, 203)]"
      ]
     },
     "execution_count": 41,
     "metadata": {},
     "output_type": "execute_result"
    }
   ],
   "source": [
    "zip(frecency_points[ais], server.W[ais])"
   ]
  },
  {
   "cell_type": "markdown",
   "metadata": {},
   "source": [
    "Even in the simulation this works a bit better. It's the only optimizer that reaches a perfect score. In a real life application, it is also much more practical, as explained above."
   ]
  },
  {
   "cell_type": "markdown",
   "metadata": {},
   "source": [
    "### With numerical gradient computation\n",
    "\n",
    "So far all simulations were based on the fact that we knew how to analytically derive the gradient.\n",
    "This is not the case for the actual addon, which uses a simple [finite difference method](https://en.wikipedia.org/wiki/Finite_difference_method) of computing the gradient.\n",
    "To make sure the simulations still work, the following reconstructs the important part of the client-side code."
   ]
  },
  {
   "cell_type": "code",
   "execution_count": 72,
   "metadata": {
    "ExecuteTime": {
     "end_time": "2018-07-06T00:40:25.916393Z",
     "start_time": "2018-07-06T00:40:25.894816Z"
    }
   },
   "outputs": [],
   "source": [
    "def full_loss(model, loss_fn, X, y):\n",
    "    preds = model.predict(X)\n",
    "    return sum([loss_fn(pi, yi) for pi, yi in zip(preds, y)]) / len(X)"
   ]
  },
  {
   "cell_type": "code",
   "execution_count": 73,
   "metadata": {
    "ExecuteTime": {
     "end_time": "2018-07-06T00:40:26.344533Z",
     "start_time": "2018-07-06T00:40:26.311489Z"
    }
   },
   "outputs": [],
   "source": [
    "class NumericalClient:\n",
    "    def __init__(self, data_generator, delta=0):\n",
    "        self.data_generator = data_generator\n",
    "        self.delta = 0\n",
    "    \n",
    "    def request_update(self, model, eps=1):\n",
    "        X, y = self.data_generator()\n",
    "        loss = full_loss(model, svm_loss, X, y)\n",
    "        \n",
    "        num_features = X[0].shape[1]\n",
    "        gradient = []\n",
    "        \n",
    "        for i in range(num_features):\n",
    "            model.W[i] -= eps\n",
    "            loss1 = full_loss(model, svm_loss, X, y)\n",
    "            \n",
    "            model.W[i] += 2 * eps\n",
    "            loss2 = full_loss(model, svm_loss, X, y)\n",
    "            \n",
    "            finite_difference = (loss1 - loss2) / (2 * eps)\n",
    "            gradient.append(finite_difference)\n",
    "            \n",
    "            model.W[i] -= eps\n",
    "        \n",
    "        return gradient, loss"
   ]
  },
  {
   "cell_type": "code",
   "execution_count": 74,
   "metadata": {
    "ExecuteTime": {
     "end_time": "2018-07-06T00:40:26.743318Z",
     "start_time": "2018-07-06T00:40:26.677818Z"
    }
   },
   "outputs": [],
   "source": [
    "clients = [NumericalClient(lambda: sample_suggestions(np.int32(np.random.exponential(.8)) + 1)) for _ in range(5000)]"
   ]
  },
  {
   "cell_type": "code",
   "execution_count": 75,
   "metadata": {
    "ExecuteTime": {
     "end_time": "2018-07-06T00:41:09.911718Z",
     "start_time": "2018-07-06T00:40:27.554833Z"
    },
    "scrolled": true
   },
   "outputs": [
    {
     "name": "stdout",
     "output_type": "stream",
     "text": [
      "[1/48] training loss across clients 12.52600\n",
      "[ModelCheckpoint] New best model with 0.75180 validation accuracy\n",
      "[2/48] training loss across clients 10.58042\n",
      "[ModelCheckpoint] New best model with 0.75660 validation accuracy\n",
      "[3/48] training loss across clients 8.25508\n",
      "[ModelCheckpoint] New best model with 0.81060 validation accuracy\n",
      "[4/48] training loss across clients 7.12117\n",
      "[ModelCheckpoint] New best model with 0.82620 validation accuracy\n",
      "[5/48] training loss across clients 4.03208\n",
      "[ModelCheckpoint] New best model with 0.88960 validation accuracy\n",
      "[6/48] training loss across clients 4.00917\n",
      "validation: 0.889 accuracy\n",
      "[7/48] training loss across clients 2.68683\n",
      "validation: 0.882 accuracy\n",
      "[8/48] training loss across clients 1.18067\n",
      "[ModelCheckpoint] New best model with 0.96580 validation accuracy\n",
      "[9/48] training loss across clients 0.88250\n",
      "[ModelCheckpoint] New best model with 0.98420 validation accuracy\n",
      "[10/48] training loss across clients 0.51500\n",
      "[ModelCheckpoint] New best model with 0.99840 validation accuracy\n",
      "[11/48] training loss across clients 0.56775\n",
      "[ModelCheckpoint] New best model with 0.99880 validation accuracy\n",
      "[12/48] training loss across clients 0.20125\n",
      "[ModelCheckpoint] New best model with 0.99900 validation accuracy\n",
      "[13/48] training loss across clients 0.18000\n",
      "validation: 0.999 accuracy\n",
      "[14/48] training loss across clients 0.00250\n",
      "[ModelCheckpoint] New best model with 0.99980 validation accuracy\n",
      "[15/48] training loss across clients 0.10050\n",
      "validation: 0.999 accuracy\n",
      "[16/48] training loss across clients 0.07000\n",
      "validation: 1.000 accuracy\n",
      "[17/48] training loss across clients 0.08992\n",
      "[ModelCheckpoint] New best model with 1.00000 validation accuracy\n",
      "[18/48] training loss across clients 0.00583\n",
      "validation: 1.000 accuracy\n",
      "[19/48] training loss across clients 0.04833\n",
      "validation: 1.000 accuracy\n",
      "[20/48] training loss across clients 0.00000\n",
      "validation: 1.000 accuracy\n",
      "[21/48] training loss across clients 0.03350\n",
      "validation: 1.000 accuracy\n",
      "[22/48] training loss across clients 0.00750\n",
      "validation: 1.000 accuracy\n",
      "[23/48] training loss across clients 0.06917\n",
      "validation: 1.000 accuracy\n",
      "[24/48] training loss across clients 0.00125\n",
      "validation: 1.000 accuracy\n",
      "[25/48] training loss across clients 0.04396\n",
      "validation: 1.000 accuracy\n",
      "[26/48] training loss across clients 0.00000\n",
      "validation: 1.000 accuracy\n",
      "[27/48] training loss across clients 0.14417\n",
      "validation: 1.000 accuracy\n",
      "[28/48] training loss across clients 0.07417\n",
      "validation: 1.000 accuracy\n",
      "[29/48] training loss across clients 0.04975\n",
      "validation: 1.000 accuracy\n",
      "[30/48] training loss across clients 0.00250\n",
      "validation: 1.000 accuracy\n",
      "[31/48] training loss across clients 0.03542\n",
      "validation: 1.000 accuracy\n",
      "[32/48] training loss across clients 0.00000\n",
      "validation: 1.000 accuracy\n",
      "[33/48] training loss across clients 0.09988\n",
      "validation: 1.000 accuracy\n",
      "[34/48] training loss across clients 0.00125\n",
      "validation: 1.000 accuracy\n",
      "[35/48] training loss across clients 0.13833\n",
      "validation: 1.000 accuracy\n",
      "[36/48] training loss across clients 0.04250\n",
      "validation: 1.000 accuracy\n",
      "[37/48] training loss across clients 0.05583\n",
      "validation: 1.000 accuracy\n",
      "[38/48] training loss across clients 0.00750\n",
      "validation: 1.000 accuracy\n",
      "[39/48] training loss across clients 0.08583\n",
      "validation: 1.000 accuracy\n",
      "[40/48] training loss across clients 0.04708\n",
      "validation: 1.000 accuracy\n",
      "[41/48] training loss across clients 0.04333\n",
      "validation: 1.000 accuracy\n",
      "[42/48] training loss across clients 0.00500\n",
      "validation: 1.000 accuracy\n",
      "[43/48] training loss across clients 0.10917\n",
      "validation: 1.000 accuracy\n",
      "[44/48] training loss across clients 0.08542\n",
      "validation: 1.000 accuracy\n",
      "[45/48] training loss across clients 0.03250\n",
      "validation: 1.000 accuracy\n",
      "[46/48] training loss across clients 0.00750\n",
      "validation: 1.000 accuracy\n",
      "[47/48] training loss across clients 0.12083\n",
      "validation: 1.000 accuracy\n",
      "[48/48] training loss across clients 0.05917\n",
      "validation: 1.000 accuracy\n"
     ]
    }
   ],
   "source": [
    "np.random.seed(10)\n",
    "opt = opt = RProp(2., len(frecency_points), min_value=1, max_value=3, alpha=2., beta=0.6)\n",
    "server = Server(clients)\n",
    "server.fit(optimizer=opt,\n",
    "          num_iterations=48,\n",
    "           num_clients_per_iteration=400,\n",
    "           constraints=[FrecencyConstraints()],\n",
    "          callbacks=[ModelCheckpoint(rank_accuracy, sample_suggestions, 5000)])"
   ]
  },
  {
   "cell_type": "code",
   "execution_count": 76,
   "metadata": {
    "ExecuteTime": {
     "end_time": "2018-07-06T00:41:09.953946Z",
     "start_time": "2018-07-06T00:41:09.913793Z"
    }
   },
   "outputs": [
    {
     "data": {
      "text/plain": [
       "array([ 3.,  3.,  3.,  3.,  1.,  3.,  2.,  3.,  3.,  3.,  1.,  2.,  2.,\n",
       "        1.,  3.])"
      ]
     },
     "execution_count": 76,
     "metadata": {},
     "output_type": "execute_result"
    }
   ],
   "source": [
    "opt.learning_rates"
   ]
  },
  {
   "cell_type": "code",
   "execution_count": 77,
   "metadata": {
    "ExecuteTime": {
     "end_time": "2018-07-06T00:41:10.063705Z",
     "start_time": "2018-07-06T00:41:09.955859Z"
    }
   },
   "outputs": [
    {
     "data": {
      "text/plain": [
       "[(12.0, 0),\n",
       " (14.0, 43),\n",
       " (20.0, 45),\n",
       " (36.0, 52),\n",
       " (42.0, 57),\n",
       " (60.0, 104),\n",
       " (60.0, 105),\n",
       " (70.0, 119),\n",
       " (84.0, 129),\n",
       " (98.0, 134),\n",
       " (100.0, 135),\n",
       " (120.0, 164),\n",
       " (140.0, 183),\n",
       " (140.0, 185),\n",
       " (200.0, 214)]"
      ]
     },
     "execution_count": 77,
     "metadata": {},
     "output_type": "execute_result"
    }
   ],
   "source": [
    "zip(frecency_points[ais], server.W[ais])"
   ]
  },
  {
   "cell_type": "markdown",
   "metadata": {},
   "source": [
    "The model still converges nicely with this method."
   ]
  },
  {
   "cell_type": "markdown",
   "metadata": {},
   "source": [
    "# Notes \n",
    "\n",
    "Simplifications made:\n",
    "\n",
    "- All users sample from the same distribution\n",
    "- `ModelCheckpoint` cannot be based on validation data in the actual implementation\n",
    "- Users should run more than one SGD iteration locally\n",
    "\n",
    "## To make fitting easier\n",
    "\n",
    "- Fair initialization\n",
    "- Normalize data (0-center)\n",
    "- Remove features with a value of 0\n",
    "\n",
    "## Still missing\n",
    "\n",
    "- Implement frequency part (switch from one-hot encoding to up to sum of 10 and add multiplicative factor)"
   ]
  }
 ],
 "metadata": {
  "anaconda-cloud": {},
  "kernelspec": {
   "display_name": "Python 3",
   "language": "python",
   "name": "python3"
  },
  "language_info": {
   "codemirror_mode": {
    "name": "ipython",
    "version": 2
   },
   "file_extension": ".py",
   "mimetype": "text/x-python",
   "name": "python",
   "nbconvert_exporter": "python",
   "pygments_lexer": "ipython2",
   "version": "3.7.6-final"
  },
  "toc": {
   "nav_menu": {},
   "number_sections": true,
   "sideBar": true,
   "skip_h1_title": false,
   "toc_cell": false,
   "toc_position": {
    "height": "1162px",
    "left": "0px",
    "right": "1494px",
    "top": "160px",
    "width": "212px"
   },
   "toc_section_display": "block",
   "toc_window_display": true
  }
 },
 "nbformat": 4,
 "nbformat_minor": 1
}