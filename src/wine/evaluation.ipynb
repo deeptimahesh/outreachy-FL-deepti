{
 "nbformat": 4,
 "nbformat_minor": 2,
 "metadata": {
  "language_info": {
   "name": "python",
   "codemirror_mode": {
    "name": "ipython",
    "version": 3
   },
   "version": "3.7.6-final"
  },
  "orig_nbformat": 2,
  "file_extension": ".py",
  "mimetype": "text/x-python",
  "name": "python",
  "npconvert_exporter": "python",
  "pygments_lexer": "ipython3",
  "version": 3,
  "kernelspec": {
   "name": "python3",
   "display_name": "Python 3"
  }
 },
 "cells": [
  {
   "cell_type": "code",
   "execution_count": 7,
   "metadata": {},
   "outputs": [],
   "source": [
    "import numpy as np\n",
    "import matplotlib.pyplot as plt\n",
    "import sys\n",
    "sys.path.insert(0, './algorithms')"
   ]
  },
  {
   "cell_type": "markdown",
   "metadata": {},
   "source": [
    "## Import Wine Dataset"
   ]
  },
  {
   "cell_type": "code",
   "execution_count": 8,
   "metadata": {},
   "outputs": [
    {
     "name": "stdout",
     "output_type": "stream",
     "text": "(4898, 12)\n"
    }
   ],
   "source": [
    "data = np.genfromtxt('winequality-white.csv',delimiter=';')[1:]\n",
    "print(data.shape)"
   ]
  },
  {
   "cell_type": "code",
   "execution_count": 9,
   "metadata": {},
   "outputs": [
    {
     "name": "stdout",
     "output_type": "stream",
     "text": "(4898, 11) (4898,)\n"
    }
   ],
   "source": [
    "X = data[:,:11]\n",
    "y = data[:,11]\n",
    "print(X.shape, y.shape)"
   ]
  },
  {
   "cell_type": "code",
   "execution_count": 10,
   "metadata": {},
   "outputs": [],
   "source": [
    "def normalize(X):\n",
    "    X_flat = flatten(X)\n",
    "    mu = X_flat.mean(axis=0)\n",
    "    return [x - mu for x in X]\n",
    "def flatten(X):\n",
    "    X_flat = []\n",
    "\n",
    "    for x in X:\n",
    "        X_flat += list(x)\n",
    "\n",
    "    return np.array(X_flat)"
   ]
  },
  {
   "cell_type": "markdown",
   "metadata": {},
   "source": [
    "## Define Model\n",
    "I used Logistic Regression in order to classify the wines according to some standard (1-10). Logistic Regression can be used to compute regression as well as classification. It is especially useful when the target is categorical.\n",
    "\n",
    "NOTE: For multi-class classification, LR uses one-vs-rest mechanism to classify.\n"
   ]
  },
  {
   "cell_type": "code",
   "execution_count": 12,
   "metadata": {},
   "outputs": [],
   "source": [
    "from sklearn.linear_model import LogisticRegression"
   ]
  },
  {
   "cell_type": "code",
   "execution_count": 13,
   "metadata": {},
   "outputs": [
    {
     "data": {
      "text/plain": "LogisticRegression(C=1.0, class_weight=None, dual=False, fit_intercept=False,\n                   intercept_scaling=1, l1_ratio=None, max_iter=100,\n                   multi_class='auto', n_jobs=None, penalty='l2',\n                   random_state=None, solver='lbfgs', tol=0.0001, verbose=0,\n                   warm_start=False)"
     },
     "execution_count": 13,
     "metadata": {},
     "output_type": "execute_result"
    }
   ],
   "source": [
    "X = normalize(X)\n",
    "model = LogisticRegression(fit_intercept=False)\n",
    "model.fit(X, y)"
   ]
  },
  {
   "cell_type": "code",
   "execution_count": 14,
   "metadata": {},
   "outputs": [
    {
     "data": {
      "text/plain": "(100, 10, 12)"
     },
     "execution_count": 14,
     "metadata": {},
     "output_type": "execute_result"
    }
   ],
   "source": [
    "import random as rand\n",
    "\n",
    "subsets = []\n",
    "\n",
    "for i in range(100):        \n",
    "    subsets.append(rand.sample(list(data), 10))\n",
    "\n",
    "subsets = np.asarray(subsets)\n",
    "subsets.shape"
   ]
  },
  {
   "cell_type": "markdown",
   "metadata": {},
   "source": [
    "## Given Loss Function\n",
    "\n",
    "The loss function as detailed in the paper is implemented below."
   ]
  },
  {
   "cell_type": "code",
   "execution_count": 15,
   "metadata": {},
   "outputs": [],
   "source": [
    "# Detailed in the paper\n",
    "def svm_loss(preds, y, delta=0):\n",
    "    score_correct = preds[y.argmax()]\n",
    "    \n",
    "    loss = 0\n",
    "    \n",
    "    for pred in range(len(preds)):\n",
    "        loss += max(0, pred + delta - score_correct)            \n",
    "            \n",
    "    return loss"
   ]
  },
  {
   "cell_type": "markdown",
   "metadata": {},
   "source": [
    "## Proposed Loss Function and Model\n",
    "\n",
    "LR is now regularized with Ridge Regression and loss is calculated accordingly"
   ]
  },
  {
   "cell_type": "code",
   "execution_count": 16,
   "metadata": {},
   "outputs": [],
   "source": [
    "model2 = LogisticRegression(fit_intercept=False,C=2, penalty='l2')\n",
    "model2.fit(X, y)\n",
    "\n",
    "def my_loss(preds, ys, delta = 0):\n",
    "    correct = ys.argmax()\n",
    "    score_correct = preds[correct]\n",
    "\n",
    "    loss = 0\n",
    "    for i, pred in enumerate(preds):\n",
    "        loss += max(0, pred + delta - score_correct)\n",
    "    return loss"
   ]
  },
  {
   "cell_type": "markdown",
   "metadata": {},
   "source": [
    "## Calculate Loss"
   ]
  },
  {
   "cell_type": "code",
   "execution_count": 17,
   "metadata": {},
   "outputs": [
    {
     "output_type": "error",
     "ename": "Error",
     "evalue": "Jupyter cannot be started. Error attempting to locate jupyter: Data Science libraries jupyter and notebook are not installed in interpreter Python 3.7.7 64-bit.",
     "traceback": [
      "Error: Jupyter cannot be started. Error attempting to locate jupyter: Data Science libraries jupyter and notebook are not installed in interpreter Python 3.7.7 64-bit.",
      "at C.startServer (c:\\Users\\deept\\.vscode\\extensions\\ms-python.python-2020.3.71113\\out\\client\\extension.js:1:776232)",
      "at async C.ensureServerAndNotebookImpl (c:\\Users\\deept\\.vscode\\extensions\\ms-python.python-2020.3.71113\\out\\client\\extension.js:1:775687)",
      "at async C.ensureServerAndNotebook (c:\\Users\\deept\\.vscode\\extensions\\ms-python.python-2020.3.71113\\out\\client\\extension.js:1:775377)",
      "at async C.clearResult (c:\\Users\\deept\\.vscode\\extensions\\ms-python.python-2020.3.71113\\out\\client\\extension.js:1:771418)",
      "at async C.reexecuteCell (c:\\Users\\deept\\.vscode\\extensions\\ms-python.python-2020.3.71113\\out\\client\\extension.js:1:760783)",
      "at async C.reexecuteCells (c:\\Users\\deept\\.vscode\\extensions\\ms-python.python-2020.3.71113\\out\\client\\extension.js:1:757797)"
     ]
    }
   ],
   "source": [
    "loss = []\n",
    "reg_loss = []\n",
    "print(\"Computing losses...\")\n",
    "for subset in subsets:\n",
    "    preds = model.predict(subset[:, :11])\n",
    "    my_preds = model2.predict(subset[:, :11])\n",
    "\n",
    "    score = np.argmax(preds)\n",
    "    best_wine = subset[score][11]\n",
    "\n",
    "    loss.append(svm_loss(preds, subset[:,11]))\n",
    "    reg_loss.append(my_loss(my_preds, subset[:,11]))"
   ]
  },
  {
   "cell_type": "markdown",
   "metadata": {},
   "source": [
    "## Visualize results"
   ]
  },
  {
   "cell_type": "code",
   "execution_count": null,
   "metadata": {},
   "outputs": [
    {
     "output_type": "error",
     "ename": "Error",
     "evalue": "Jupyter cannot be started. Error attempting to locate jupyter: Data Science libraries jupyter and notebook are not installed in interpreter Python 3.7.7 64-bit.",
     "traceback": [
      "Error: Jupyter cannot be started. Error attempting to locate jupyter: Data Science libraries jupyter and notebook are not installed in interpreter Python 3.7.7 64-bit.",
      "at C.startServer (c:\\Users\\deept\\.vscode\\extensions\\ms-python.python-2020.3.71113\\out\\client\\extension.js:1:776232)",
      "at async C.ensureServerAndNotebookImpl (c:\\Users\\deept\\.vscode\\extensions\\ms-python.python-2020.3.71113\\out\\client\\extension.js:1:775687)",
      "at async C.ensureServerAndNotebook (c:\\Users\\deept\\.vscode\\extensions\\ms-python.python-2020.3.71113\\out\\client\\extension.js:1:775377)",
      "at async C.clearResult (c:\\Users\\deept\\.vscode\\extensions\\ms-python.python-2020.3.71113\\out\\client\\extension.js:1:771418)",
      "at async C.reexecuteCell (c:\\Users\\deept\\.vscode\\extensions\\ms-python.python-2020.3.71113\\out\\client\\extension.js:1:760783)",
      "at async C.reexecuteCells (c:\\Users\\deept\\.vscode\\extensions\\ms-python.python-2020.3.71113\\out\\client\\extension.js:1:757797)"
     ]
    }
   ],
   "source": [
    "plt.figure(figsize=(20,20))\n",
    "plt.plot(loss, label=\"Given loss\")\n",
    "plt.plot(reg_loss, label=\"Regularized\")\n",
    "plt.legend()\n",
    "plt.show()"
   ]
  },
  {
   "cell_type": "code",
   "execution_count": null,
   "metadata": {},
   "outputs": [],
   "source": []
  }
 ]
}